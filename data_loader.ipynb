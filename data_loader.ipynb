{
 "cells": [
  {
   "cell_type": "code",
   "execution_count": 59,
   "metadata": {},
   "outputs": [],
   "source": [
    "import os\n",
    "import random\n",
    "import pandas as pd\n",
    "from torch.utils.data import DataLoader"
   ]
  },
  {
   "cell_type": "code",
   "execution_count": 24,
   "metadata": {},
   "outputs": [],
   "source": [
    "config = {\n",
    "    'path' : '/mnt/d/OneDrive - Oklahoma A and M System/RA/Summer 24/MMAE_Wireless/DenoMAE/data',\n",
    "    'files_path': 'files.txt',\n",
    "    'image_path':'noisyImg/',\n",
    "    'signal_path':'signal/',\n",
    "    'noise_path':'noise/',\n",
    "    'batch_size': 4,\n",
    "    'image_size': 224,\n",
    "}"
   ]
  },
  {
   "cell_type": "code",
   "execution_count": 25,
   "metadata": {},
   "outputs": [
    {
     "data": {
      "text/plain": [
       "'/mnt/d/OneDrive - Oklahoma A and M System/RA/Summer 24/MMAE_Wireless/DenoMAE/data/files.txt'"
      ]
     },
     "execution_count": 25,
     "metadata": {},
     "output_type": "execute_result"
    }
   ],
   "source": [
    "# def limit_data(config, n=10):\n",
    "#     a = []\n",
    "file_names = os.path.join(config['path'], config['files_path'])\n",
    "file_names"
   ]
  },
  {
   "cell_type": "code",
   "execution_count": 55,
   "metadata": {},
   "outputs": [],
   "source": [
    "with open(file_names, 'r') as file:\n",
    "    content = file.read()\n",
    "lines = [word for word in content.split() if word]\n",
    "random.shuffle(lines)\n",
    "\n",
    "images = []\n",
    "signals = []\n",
    "noises = []\n",
    "for i in lines:\n",
    "    image = os.path.join(config['path'], config['image_path'],  f\"{i}.png\")\n",
    "    signal = os.path.join(config['path'], config['signal_path'], f\"{i}.npy\")\n",
    "    noise = os.path.join(config['path'], config['noise_path'], f\"{i}.npy\")\n",
    "    images.append(image)\n",
    "    signals.append(signal)\n",
    "    noises.append(noise)"
   ]
  },
  {
   "cell_type": "code",
   "execution_count": 58,
   "metadata": {},
   "outputs": [
    {
     "name": "stdout",
     "output_type": "stream",
     "text": [
      "Total samples found: 20\n"
     ]
    }
   ],
   "source": [
    "data = {\n",
    "    'images': images,\n",
    "    'signals': signals,\n",
    "    'noises': noises\n",
    "}\n",
    "\n",
    "df = pd.DataFrame(data, columns=['images', 'signals', 'noises'])\n",
    "print(f\"Total samples found: {len(df)}\")"
   ]
  },
  {
   "cell_type": "code",
   "execution_count": 67,
   "metadata": {},
   "outputs": [
    {
     "data": {
      "text/plain": [
       "['/mnt/d/OneDrive - Oklahoma A and M System/RA/Summer 24/MMAE_Wireless/DenoMAE/data/noisyImg/4ASK_1.94dB__1.png',\n",
       " '/mnt/d/OneDrive - Oklahoma A and M System/RA/Summer 24/MMAE_Wireless/DenoMAE/data/noisyImg/4PAM_1.49dB__1.png',\n",
       " '/mnt/d/OneDrive - Oklahoma A and M System/RA/Summer 24/MMAE_Wireless/DenoMAE/data/noisyImg/CPFSK_-1.01dB__1.png',\n",
       " '/mnt/d/OneDrive - Oklahoma A and M System/RA/Summer 24/MMAE_Wireless/DenoMAE/data/noisyImg/4ASK_1.94dB__0.png']"
      ]
     },
     "execution_count": 67,
     "metadata": {},
     "output_type": "execute_result"
    }
   ],
   "source": [
    "image_dataloader = DataLoader(df['images'], batch_size=config['batch_size'], shuffle=False)\n",
    "image_dataloader\n",
    "image_batch = next(iter(image_dataloader))\n",
    "image_batch"
   ]
  },
  {
   "cell_type": "code",
   "execution_count": 54,
   "metadata": {},
   "outputs": [
    {
     "data": {
      "text/plain": [
       "'/mnt/d/OneDrive - Oklahoma A and M System/RA/Summer 24/MMAE_Wireless/DenoMAE/data/noise/16PAM_9.98dB__1.npy'"
      ]
     },
     "execution_count": 54,
     "metadata": {},
     "output_type": "execute_result"
    }
   ],
   "source": [
    "class MultiModalDataGenerator:\n",
    "    def __init__(self, df, config):\n",
    "        self.df = df\n",
    "        self.batch_size = config['batch_size']\n",
    "\n",
    "    def process_batch(self):\n",
    "        \n",
    "        self.image_dataloader = DataLoader(self.df['image'], batch_size=self.batch_size, shuffle=False)\n",
    "        self.signal_dataloader = DataLoader(self.df['signals'], batch_size=self.batch_size, shuffle=False)\n",
    "        self.noise_dataloader = DataLoader(self.df['noises'], batch_size=self.batch_size, shuffle=False)\n",
    "\n",
    "        return self.image_dataloader, self.signal_dataloader, self.noise_dataloader\n",
    "        \n"
   ]
  }
 ],
 "metadata": {
  "kernelspec": {
   "display_name": "torch",
   "language": "python",
   "name": "python3"
  },
  "language_info": {
   "codemirror_mode": {
    "name": "ipython",
    "version": 3
   },
   "file_extension": ".py",
   "mimetype": "text/x-python",
   "name": "python",
   "nbconvert_exporter": "python",
   "pygments_lexer": "ipython3",
   "version": "3.10.13"
  }
 },
 "nbformat": 4,
 "nbformat_minor": 2
}
